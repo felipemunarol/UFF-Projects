{
  "cells": [
    {
      "cell_type": "markdown",
      "metadata": {
        "id": "view-in-github",
        "colab_type": "text"
      },
      "source": [
        "<a href=\"https://colab.research.google.com/github/felipemunarol/UFF-Projects/blob/main/src/dados_geograficos_conjuntos.ipynb\" target=\"_parent\"><img src=\"https://colab.research.google.com/assets/colab-badge.svg\" alt=\"Open In Colab\"/></a>"
      ]
    },
    {
      "cell_type": "markdown",
      "metadata": {
        "id": "AVov0DbIZLb1"
      },
      "source": [
        "Validacao da leitura dos dados de kml das bases que contem as informacoes geograficas"
      ]
    },
    {
      "cell_type": "code",
      "execution_count": null,
      "metadata": {
        "colab": {
          "base_uri": "https://localhost:8080/",
          "height": 833
        },
        "id": "WpqmakfpljAl",
        "outputId": "198894cc-5ccc-4c55-f848-ec1ea4dbee02"
      },
      "outputs": [
        {
          "output_type": "stream",
          "name": "stdout",
          "text": [
            "Collecting geotable\n",
            "  Downloading geotable-0.4.2.8-py3-none-any.whl (12 kB)\n",
            "Collecting invisibleroads-macros>=0.9.5.1 (from geotable)\n",
            "  Downloading invisibleroads_macros-0.9.5.1-py3-none-any.whl (20 kB)\n",
            "Requirement already satisfied: pandas>=0.20 in /usr/local/lib/python3.10/dist-packages (from geotable) (1.5.3)\n",
            "Requirement already satisfied: shapely[vectorized] in /usr/local/lib/python3.10/dist-packages (from geotable) (2.0.1)\n",
            "Collecting utm (from geotable)\n",
            "  Downloading utm-0.7.0.tar.gz (8.7 kB)\n",
            "  Preparing metadata (setup.py) ... \u001b[?25l\u001b[?25hdone\n",
            "Requirement already satisfied: attrs in /usr/local/lib/python3.10/dist-packages (from invisibleroads-macros>=0.9.5.1->geotable) (23.1.0)\n",
            "Collecting configparser (from invisibleroads-macros>=0.9.5.1->geotable)\n",
            "  Downloading configparser-6.0.0-py3-none-any.whl (19 kB)\n",
            "Collecting simplejson (from invisibleroads-macros>=0.9.5.1->geotable)\n",
            "  Downloading simplejson-3.19.1-cp310-cp310-manylinux_2_5_x86_64.manylinux1_x86_64.manylinux_2_17_x86_64.manylinux2014_x86_64.whl (137 kB)\n",
            "\u001b[2K     \u001b[90m━━━━━━━━━━━━━━━━━━━━━━━━━━━━━━━━━━━━━━\u001b[0m \u001b[32m137.9/137.9 kB\u001b[0m \u001b[31m15.0 MB/s\u001b[0m eta \u001b[36m0:00:00\u001b[0m\n",
            "\u001b[?25hRequirement already satisfied: six in /usr/local/lib/python3.10/dist-packages (from invisibleroads-macros>=0.9.5.1->geotable) (1.16.0)\n",
            "Requirement already satisfied: python-dateutil>=2.8.1 in /usr/local/lib/python3.10/dist-packages (from pandas>=0.20->geotable) (2.8.2)\n",
            "Requirement already satisfied: pytz>=2020.1 in /usr/local/lib/python3.10/dist-packages (from pandas>=0.20->geotable) (2022.7.1)\n",
            "Requirement already satisfied: numpy>=1.21.0 in /usr/local/lib/python3.10/dist-packages (from pandas>=0.20->geotable) (1.22.4)\n",
            "\u001b[33mWARNING: shapely 2.0.1 does not provide the extra 'vectorized'\u001b[0m\u001b[33m\n",
            "\u001b[0mBuilding wheels for collected packages: utm\n",
            "  Building wheel for utm (setup.py) ... \u001b[?25l\u001b[?25hdone\n",
            "  Created wheel for utm: filename=utm-0.7.0-py3-none-any.whl size=6085 sha256=6b8f0c5e0fdafd04360300009c9a1e27278e434ea9a0ca41984ee531db94c1a0\n",
            "  Stored in directory: /root/.cache/pip/wheels/2f/a1/c8/543df0e8f5e824c3e92a432e32deb9cd89ae686095ee8cfcbe\n",
            "Successfully built utm\n",
            "Installing collected packages: utm, simplejson, configparser, invisibleroads-macros, geotable\n",
            "Successfully installed configparser-6.0.0 geotable-0.4.2.8 invisibleroads-macros-0.9.5.1 simplejson-3.19.1 utm-0.7.0\n"
          ]
        },
        {
          "output_type": "display_data",
          "data": {
            "application/vnd.colab-display-data+json": {
              "pip_warning": {
                "packages": [
                  "configparser"
                ]
              }
            }
          },
          "metadata": {}
        },
        {
          "output_type": "stream",
          "name": "stdout",
          "text": [
            "Requirement already satisfied: geopandas in /usr/local/lib/python3.10/dist-packages (0.13.2)\n",
            "Requirement already satisfied: fiona>=1.8.19 in /usr/local/lib/python3.10/dist-packages (from geopandas) (1.9.4.post1)\n",
            "Requirement already satisfied: packaging in /usr/local/lib/python3.10/dist-packages (from geopandas) (23.1)\n",
            "Requirement already satisfied: pandas>=1.1.0 in /usr/local/lib/python3.10/dist-packages (from geopandas) (1.5.3)\n",
            "Requirement already satisfied: pyproj>=3.0.1 in /usr/local/lib/python3.10/dist-packages (from geopandas) (3.6.0)\n",
            "Requirement already satisfied: shapely>=1.7.1 in /usr/local/lib/python3.10/dist-packages (from geopandas) (2.0.1)\n",
            "Requirement already satisfied: attrs>=19.2.0 in /usr/local/lib/python3.10/dist-packages (from fiona>=1.8.19->geopandas) (23.1.0)\n",
            "Requirement already satisfied: certifi in /usr/local/lib/python3.10/dist-packages (from fiona>=1.8.19->geopandas) (2023.5.7)\n",
            "Requirement already satisfied: click~=8.0 in /usr/local/lib/python3.10/dist-packages (from fiona>=1.8.19->geopandas) (8.1.3)\n",
            "Requirement already satisfied: click-plugins>=1.0 in /usr/local/lib/python3.10/dist-packages (from fiona>=1.8.19->geopandas) (1.1.1)\n",
            "Requirement already satisfied: cligj>=0.5 in /usr/local/lib/python3.10/dist-packages (from fiona>=1.8.19->geopandas) (0.7.2)\n",
            "Requirement already satisfied: six in /usr/local/lib/python3.10/dist-packages (from fiona>=1.8.19->geopandas) (1.16.0)\n",
            "Requirement already satisfied: python-dateutil>=2.8.1 in /usr/local/lib/python3.10/dist-packages (from pandas>=1.1.0->geopandas) (2.8.2)\n",
            "Requirement already satisfied: pytz>=2020.1 in /usr/local/lib/python3.10/dist-packages (from pandas>=1.1.0->geopandas) (2022.7.1)\n",
            "Requirement already satisfied: numpy>=1.21.0 in /usr/local/lib/python3.10/dist-packages (from pandas>=1.1.0->geopandas) (1.22.4)\n"
          ]
        }
      ],
      "source": [
        "! pip install geotable  # Library to read the kmz file\n",
        "! pip install geopandas # https://geopandas.org/en/stable/docs/user_guide/io.html"
      ]
    },
    {
      "cell_type": "code",
      "execution_count": null,
      "metadata": {
        "colab": {
          "base_uri": "https://localhost:8080/"
        },
        "id": "GZyCJmlwXvLM",
        "outputId": "2f56459e-2715-4ee0-8845-cabb482ad2ff"
      },
      "outputs": [
        {
          "output_type": "stream",
          "name": "stdout",
          "text": [
            "Mounted at /content/drive\n"
          ]
        }
      ],
      "source": [
        "# libraries\n",
        "import csv\n",
        "import pandas as pd\n",
        "import os\n",
        "# import ckan\n",
        "import requests\n",
        "import geopandas as gpd\n",
        "import urllib\n",
        "import time\n",
        "import geotable\n",
        "import sys\n",
        "import ast\n",
        "import codecs\n",
        "from zipfile import ZipFile\n",
        "import fiona\n",
        "\n",
        "pd.set_option('display.max_columns', None)\n",
        "\n",
        "# Conecta o serviço com o Drive\n",
        "from google.colab import drive\n",
        "drive.mount('/content/drive')\n",
        "\n",
        "os.environ['ROOT'] = '/content/drive/MyDrive/Mestrado/Ordens_servico/'\n",
        "base_path = os.environ.get(\"ROOT\")"
      ]
    },
    {
      "cell_type": "code",
      "execution_count": null,
      "metadata": {
        "id": "5pUbQxwByzG5"
      },
      "outputs": [],
      "source": [
        "year = 2021"
      ]
    },
    {
      "cell_type": "code",
      "execution_count": null,
      "metadata": {
        "colab": {
          "base_uri": "https://localhost:8080/"
        },
        "id": "sXDulyely1me",
        "outputId": "fd81ce48-b898-4b6a-ed94-487af9275792"
      },
      "outputs": [
        {
          "output_type": "stream",
          "name": "stdout",
          "text": [
            "'Apresentacoes Andamento'  'Doc Dissertação.gdoc'  'Tese Latex'\n",
            "'Definição Problema.gdoc'   Doc.gdoc\t\t    Tese.pdf\n",
            " Dissertaçao.docx\t    Ordens_servico\n"
          ]
        }
      ],
      "source": [
        "# Raiz\n",
        "! ls '/content/drive/MyDrive/Mestrado/Ordens_servico/'"
      ]
    },
    {
      "cell_type": "markdown",
      "metadata": {
        "id": "lvjp2ilpZ0il"
      },
      "source": [
        "## Geoinformation of sets"
      ]
    },
    {
      "cell_type": "code",
      "execution_count": null,
      "metadata": {
        "id": "RwIdTkz8XfcM"
      },
      "outputs": [],
      "source": [
        "# https://pypi.org/project/geotable/ -  open a geotable with geopandas\n",
        "t = geotable.load(base_path + \"Ordens_servico/AHE_DOWN_LayerToKML.kmz\")"
      ]
    },
    {
      "cell_type": "code",
      "execution_count": null,
      "metadata": {
        "colab": {
          "base_uri": "https://localhost:8080/",
          "height": 35
        },
        "id": "DWhHUFNcXmOZ",
        "outputId": "ee9c32c0-9f30-4044-9309-533062eb9fb7"
      },
      "outputs": [
        {
          "output_type": "execute_result",
          "data": {
            "text/plain": [
              "'/content/drive/MyDrive/Mestrado/Ordens_servico/Ordens_servico/AHE_DOWN_LayerToKMLSHP.zip'"
            ],
            "application/vnd.google.colaboratory.intrinsic+json": {
              "type": "string"
            }
          },
          "metadata": {},
          "execution_count": 14
        }
      ],
      "source": [
        "from geotable.projections import LONGITUDE_LATITUDE_PROJ4\n",
        "t.save_shp(base_path + \"Ordens_servico/AHE_DOWN_LayerToKMLSHP.zip\", target_proj4=LONGITUDE_LATITUDE_PROJ4)"
      ]
    },
    {
      "cell_type": "code",
      "execution_count": null,
      "metadata": {
        "id": "VIJ5MT53byvz"
      },
      "outputs": [],
      "source": [
        "t_g = gpd.read_file(base_path + \"Ordens_servico/AHE_DOWN_LayerToKMLSHP.zip\")"
      ]
    },
    {
      "cell_type": "code",
      "execution_count": null,
      "metadata": {
        "colab": {
          "base_uri": "https://localhost:8080/",
          "height": 847
        },
        "id": "n-jPoXnLcMnu",
        "outputId": "de4031c6-2dd5-4966-9b85-21357f0fcd77"
      },
      "outputs": [
        {
          "output_type": "execute_result",
          "data": {
            "text/plain": [
              "<Axes: >"
            ]
          },
          "metadata": {},
          "execution_count": 16
        },
        {
          "output_type": "display_data",
          "data": {
            "text/plain": [
              "<Figure size 2000x1000 with 1 Axes>"
            ],
            "image/png": "[encoded data removed]"
          },
          "metadata": {}
        }
      ],
      "source": [
        "t_g.plot(figsize=(20,10))"
      ]
    },
    {
      "cell_type": "code",
      "execution_count": null,
      "metadata": {
        "colab": {
          "base_uri": "https://localhost:8080/",
          "height": 81
        },
        "id": "fC2vS7U7Yc18",
        "outputId": "dfc18f76-e5da-4f08-8068-eee3188836ff"
      },
      "outputs": [
        {
          "output_type": "execute_result",
          "data": {
            "text/plain": [
              "       Name                                           geometry\n",
              "1830  15587  POLYGON Z ((-48.56401 -27.59334 0.00000, -48.5..."
            ],
            "text/html": [
              "\n",
              "  <div id=\"df-942b5977-fe1a-47ba-ac3d-ee53fca4e776\">\n",
              "    <div class=\"colab-df-container\">\n",
              "      <div>\n",
              "<style scoped>\n",
              "    .dataframe tbody tr th:only-of-type {\n",
              "        vertical-align: middle;\n",
              "    }\n",
              "\n",
              "    .dataframe tbody tr th {\n",
              "        vertical-align: top;\n",
              "    }\n",
              "\n",
              "    .dataframe thead th {\n",
              "        text-align: right;\n",
              "    }\n",
              "</style>\n",
              "<table border=\"1\" class=\"dataframe\">\n",
              "  <thead>\n",
              "    <tr style=\"text-align: right;\">\n",
              "      <th></th>\n",
              "      <th>Name</th>\n",
              "      <th>geometry</th>\n",
              "    </tr>\n",
              "  </thead>\n",
              "  <tbody>\n",
              "    <tr>\n",
              "      <th>1830</th>\n",
              "      <td>15587</td>\n",
              "      <td>POLYGON Z ((-48.56401 -27.59334 0.00000, -48.5...</td>\n",
              "    </tr>\n",
              "  </tbody>\n",
              "</table>\n",
              "</div>\n",
              "      <button class=\"colab-df-convert\" onclick=\"convertToInteractive('df-942b5977-fe1a-47ba-ac3d-ee53fca4e776')\"\n",
              "              title=\"Convert this dataframe to an interactive table.\"\n",
              "              style=\"display:none;\">\n",
              "        \n",
              "  <svg xmlns=\"http://www.w3.org/2000/svg\" height=\"24px\"viewBox=\"0 0 24 24\"\n",
              "       width=\"24px\">\n",
              "    <path d=\"M0 0h24v24H0V0z\" fill=\"none\"/>\n",
              "    <path d=\"M18.56 5.44l.94 2.06.94-2.06 2.06-.94-2.06-.94-.94-2.06-.94 2.06-2.06.94zm-11 1L8.5 8.5l.94-2.06 2.06-.94-2.06-.94L8.5 2.5l-.94 2.06-2.06.94zm10 10l.94 2.06.94-2.06 2.06-.94-2.06-.94-.94-2.06-.94 2.06-2.06.94z\"/><path d=\"M17.41 7.96l-1.37-1.37c-.4-.4-.92-.59-1.43-.59-.52 0-1.04.2-1.43.59L10.3 9.45l-7.72 7.72c-.78.78-.78 2.05 0 2.83L4 21.41c.39.39.9.59 1.41.59.51 0 1.02-.2 1.41-.59l7.78-7.78 2.81-2.81c.8-.78.8-2.07 0-2.86zM5.41 20L4 18.59l7.72-7.72 1.47 1.35L5.41 20z\"/>\n",
              "  </svg>\n",
              "      </button>\n",
              "      \n",
              "  <style>\n",
              "    .colab-df-container {\n",
              "      display:flex;\n",
              "      flex-wrap:wrap;\n",
              "      gap: 12px;\n",
              "    }\n",
              "\n",
              "    .colab-df-convert {\n",
              "      background-color: #E8F0FE;\n",
              "      border: none;\n",
              "      border-radius: 50%;\n",
              "      cursor: pointer;\n",
              "      display: none;\n",
              "      fill: #1967D2;\n",
              "      height: 32px;\n",
              "      padding: 0 0 0 0;\n",
              "      width: 32px;\n",
              "    }\n",
              "\n",
              "    .colab-df-convert:hover {\n",
              "      background-color: #E2EBFA;\n",
              "      box-shadow: 0px 1px 2px rgba(60, 64, 67, 0.3), 0px 1px 3px 1px rgba(60, 64, 67, 0.15);\n",
              "      fill: #174EA6;\n",
              "    }\n",
              "\n",
              "    [theme=dark] .colab-df-convert {\n",
              "      background-color: #3B4455;\n",
              "      fill: #D2E3FC;\n",
              "    }\n",
              "\n",
              "    [theme=dark] .colab-df-convert:hover {\n",
              "      background-color: #434B5C;\n",
              "      box-shadow: 0px 1px 3px 1px rgba(0, 0, 0, 0.15);\n",
              "      filter: drop-shadow(0px 1px 2px rgba(0, 0, 0, 0.3));\n",
              "      fill: #FFFFFF;\n",
              "    }\n",
              "  </style>\n",
              "\n",
              "      <script>\n",
              "        const buttonEl =\n",
              "          document.querySelector('#df-942b5977-fe1a-47ba-ac3d-ee53fca4e776 button.colab-df-convert');\n",
              "        buttonEl.style.display =\n",
              "          google.colab.kernel.accessAllowed ? 'block' : 'none';\n",
              "\n",
              "        async function convertToInteractive(key) {\n",
              "          const element = document.querySelector('#df-942b5977-fe1a-47ba-ac3d-ee53fca4e776');\n",
              "          const dataTable =\n",
              "            await google.colab.kernel.invokeFunction('convertToInteractive',\n",
              "                                                     [key], {});\n",
              "          if (!dataTable) return;\n",
              "\n",
              "          const docLinkHtml = 'Like what you see? Visit the ' +\n",
              "            '<a target=\"_blank\" href=https://colab.research.google.com/notebooks/data_table.ipynb>data table notebook</a>'\n",
              "            + ' to learn more about interactive tables.';\n",
              "          element.innerHTML = '';\n",
              "          dataTable['output_type'] = 'display_data';\n",
              "          await google.colab.output.renderOutput(dataTable, element);\n",
              "          const docLink = document.createElement('div');\n",
              "          docLink.innerHTML = docLinkHtml;\n",
              "          element.appendChild(docLink);\n",
              "        }\n",
              "      </script>\n",
              "    </div>\n",
              "  </div>\n",
              "  "
            ]
          },
          "metadata": {},
          "execution_count": 17
        }
      ],
      "source": [
        "# Pass the id of the set to integer\n",
        "t_g[\"Name\"] = t_g.Name.astype(\"int\")\n",
        "# validacao de um conjunto\n",
        "t_g[t_g.Name == 15587]"
      ]
    },
    {
      "cell_type": "code",
      "source": [
        "t_g[t_g.Name==14843].geometry.iloc[0]"
      ],
      "metadata": {
        "colab": {
          "base_uri": "https://localhost:8080/",
          "height": 121
        },
        "id": "7NCtY4wJkH2s",
        "outputId": "7e825785-5c24-455f-948b-2e37aaead731"
      },
      "execution_count": null,
      "outputs": [
        {
          "output_type": "execute_result",
          "data": {
            "text/plain": [
              "<POLYGON Z ((-55.595 -15.837 0, -55.62 -15.739 0, -55.559 -15.684 0, -55.49 ...>"
            ],
            "image/svg+xml": "<svg xmlns=\"http://www.w3.org/2000/svg\" xmlns:xlink=\"http://www.w3.org/1999/xlink\" width=\"100.0\" height=\"100.0\" viewBox=\"-55.68787247371871 -16.675332443200634 1.1336732494375141 1.195276870406607\" preserveAspectRatio=\"xMinYMin meet\"><g transform=\"matrix(1,0,0,-1,0,-32.15538801599466)\"><path fill-rule=\"evenodd\" fill=\"#66cc99\" stroke=\"#555555\" stroke-width=\"0.02390553740813214\" opacity=\"0.6\" d=\"M -55.59453678699998,-15.83697830350397 L -55.62024979899996,-15.73859488350673 L -55.55943564499995,-15.68416410850825 L -55.49035608399998,-15.66237916050885 L -55.39974236299997,-15.67324857150859 L -55.37584558699996,-15.71198215450745 L -55.36567860099996,-15.74387647650658 L -55.34058345099999,-15.77132655350579 L -55.30515273699996,-15.76667904850594 L -55.27482363099995,-15.8073294965048 L -55.25837880599995,-15.81072773050468 L -55.24252680299997,-15.78136027650555 L -55.20600616599995,-15.74190489350664 L -55.18148689299994,-15.70503725750767 L -55.12645512999995,-15.68947208450814 L -55.11363565299996,-15.64468668750939 L -55.07655122699999,-15.60735372051045 L -55.03144886999996,-15.57874155351125 L -54.90064206199997,-15.52432508651279 L -54.80597296299992,-15.5804072365112 L -54.72218393199995,-15.57812023351127 L -54.69766532899996,-15.6019473665106 L -54.70461397699995,-15.63906471450954 L -54.68270916999995,-15.64480126950938 L -54.64381407499997,-15.62786896950985 L -54.59960790599996,-15.63476115450968 L -54.59846873799996,-15.66203450450888 L -54.62410702999995,-15.68379656750825 L -54.62059794699996,-15.7404086315067 L -54.60239683299994,-15.79542709350511 L -54.67282309199993,-15.87433186350292 L -54.68699166599998,-15.91966981250163 L -54.73606765699998,-15.94895725850082 L -54.78982925899999,-15.96815146750031 L -54.79127524299997,-16.00455415249928 L -54.80380106699994,-16.04531006249812 L -54.82233620499995,-16.06759466249753 L -54.84802278499996,-16.08271713049712 L -54.85355504899997,-16.13268786449573 L -54.84771509199999,-16.16824874549472 L -54.88119479799997,-16.19332129349399 L -54.92103068499995,-16.19981573449384 L -54.94865335199995,-16.21725848349335 L -54.96610678599995,-16.24398676449258 L -55.02414060999996,-16.24896258749245 L -55.08779087899995,-16.28313695949154 L -55.15072767399994,-16.35358105248958 L -55.14709399599997,-16.43264083248736 L -55.14677998099995,-16.51715912048504 L -55.19034082599996,-16.63106292948187 L -55.26210506599994,-16.60806600848255 L -55.31020605399994,-16.48710298648587 L -55.37459434399995,-16.49103376848575 L -55.42589462699993,-16.54280248448435 L -55.51618909099994,-16.52306427948489 L -55.58358853699996,-16.41623958548784 L -55.61995269799996,-16.36963468048915 L -55.62038883399998,-16.20912591349359 L -55.58700971399998,-16.13571660249559 L -55.57787353399994,-16.02251211649878 L -55.64360295999995,-15.94861955750085 L -55.62409652499997,-15.92199432850161 L -55.57762702199994,-15.89285461850239 L -55.56316688299994,-15.86904315350306 L -55.57202205599998,-15.83939803450387 L -55.59453678699998,-15.83697830350397 z M -54.90945758999993,-15.97978380949997 L -54.79766931299998,-15.92651516450147 L -54.76095569199997,-15.91695965650172 L -54.75965993899996,-15.87790125850281 L -54.84622532799995,-15.83981137150387 L -54.88032914499996,-15.82533374250427 L -54.91355903499994,-15.81840633050449 L -54.93672337999993,-15.81722811150452 L -54.94046733099997,-15.81737020150452 L -54.95377096499993,-15.82887414550422 L -54.95634585999994,-15.83315691450408 L -54.95912287499994,-15.8404001025039 L -54.97969353299994,-15.89758764050229 L -54.98467093299997,-15.92105955250162 L -54.98700873299998,-15.94546836350093 L -54.97723872499995,-15.98336861549986 L -54.90945758999993,-15.97978380949997 z\" /></g></svg>"
          },
          "metadata": {},
          "execution_count": 18
        }
      ]
    },
    {
      "cell_type": "code",
      "source": [
        "t_g[t_g.Name==14843].geometry.iloc[1]"
      ],
      "metadata": {
        "colab": {
          "base_uri": "https://localhost:8080/",
          "height": 121
        },
        "id": "y9rCfmqFkwrk",
        "outputId": "2cd376bb-7a33-48b5-bacf-91c5564847fb"
      },
      "execution_count": null,
      "outputs": [
        {
          "output_type": "execute_result",
          "data": {
            "text/plain": [
              "<POLYGON Z ((-55.595 -15.837 0, -55.62 -15.739 0, -55.559 -15.684 0, -55.49 ...>"
            ],
            "image/svg+xml": "<svg xmlns=\"http://www.w3.org/2000/svg\" xmlns:xlink=\"http://www.w3.org/1999/xlink\" width=\"100.0\" height=\"100.0\" viewBox=\"-55.68787247371871 -16.675332443200634 1.1336732494375141 1.195276870406607\" preserveAspectRatio=\"xMinYMin meet\"><g transform=\"matrix(1,0,0,-1,0,-32.15538801599466)\"><path fill-rule=\"evenodd\" fill=\"#66cc99\" stroke=\"#555555\" stroke-width=\"0.02390553740813214\" opacity=\"0.6\" d=\"M -55.59453678699998,-15.83697830350397 L -55.62024979899996,-15.73859488350673 L -55.55943564499995,-15.68416410850825 L -55.49035608399998,-15.66237916050885 L -55.39974236299997,-15.67324857150859 L -55.37584558699996,-15.71198215450745 L -55.36567860099996,-15.74387647650658 L -55.34058345099999,-15.77132655350579 L -55.30515273699996,-15.76667904850594 L -55.27482363099995,-15.8073294965048 L -55.25837880599995,-15.81072773050468 L -55.24252680299997,-15.78136027650555 L -55.20600616599995,-15.74190489350664 L -55.18148689299994,-15.70503725750767 L -55.12645512999995,-15.68947208450814 L -55.11363565299996,-15.64468668750939 L -55.07655122699999,-15.60735372051045 L -55.03144886999996,-15.57874155351125 L -54.90064206199997,-15.52432508651279 L -54.80597296299992,-15.5804072365112 L -54.72218393199995,-15.57812023351127 L -54.69766532899996,-15.6019473665106 L -54.70461397699995,-15.63906471450954 L -54.68270916999995,-15.64480126950938 L -54.64381407499997,-15.62786896950985 L -54.59960790599996,-15.63476115450968 L -54.59846873799996,-15.66203450450888 L -54.62410702999995,-15.68379656750825 L -54.62059794699996,-15.7404086315067 L -54.60239683299994,-15.79542709350511 L -54.67282309199993,-15.87433186350292 L -54.68699166599998,-15.91966981250163 L -54.73606765699998,-15.94895725850082 L -54.78982925899999,-15.96815146750031 L -54.79127524299997,-16.00455415249928 L -54.80380106699994,-16.04531006249812 L -54.82233620499995,-16.06759466249753 L -54.84802278499996,-16.08271713049712 L -54.85355504899997,-16.13268786449573 L -54.84771509199999,-16.16824874549472 L -54.88119479799997,-16.19332129349399 L -54.92103068499995,-16.19981573449384 L -54.94865335199995,-16.21725848349335 L -54.96610678599995,-16.24398676449258 L -55.02414060999996,-16.24896258749245 L -55.08779087899995,-16.28313695949154 L -55.15072767399994,-16.35358105248958 L -55.14709399599997,-16.43264083248736 L -55.14677998099995,-16.51715912048504 L -55.19034082599996,-16.63106292948187 L -55.26210506599994,-16.60806600848255 L -55.31020605399994,-16.48710298648587 L -55.37459434399995,-16.49103376848575 L -55.42589462699993,-16.54280248448435 L -55.51618909099994,-16.52306427948489 L -55.58358853699996,-16.41623958548784 L -55.61995269799996,-16.36963468048915 L -55.62038883399998,-16.20912591349359 L -55.58700971399998,-16.13571660249559 L -55.57787353399994,-16.02251211649878 L -55.64360295999995,-15.94861955750085 L -55.62409652499997,-15.92199432850161 L -55.57762702199994,-15.89285461850239 L -55.56316688299994,-15.86904315350306 L -55.57202205599998,-15.83939803450387 L -55.59453678699998,-15.83697830350397 z M -54.90945758999993,-15.97978380949997 L -54.79766931299998,-15.92651516450147 L -54.76095569199997,-15.91695965650172 L -54.75965993899996,-15.87790125850281 L -54.84622532799995,-15.83981137150387 L -54.88032914499996,-15.82533374250427 L -54.91355903499994,-15.81840633050449 L -54.93672337999993,-15.81722811150452 L -54.94046733099997,-15.81737020150452 L -54.95377096499993,-15.82887414550422 L -54.95634585999994,-15.83315691450408 L -54.95912287499994,-15.8404001025039 L -54.97969353299994,-15.89758764050229 L -54.98467093299997,-15.92105955250162 L -54.98700873299998,-15.94546836350093 L -54.97723872499995,-15.98336861549986 L -54.90945758999993,-15.97978380949997 z\" /></g></svg>"
          },
          "metadata": {},
          "execution_count": 19
        }
      ]
    },
    {
      "cell_type": "code",
      "source": [
        "# Foram encontrados no arquivo KML casos repetidos que sao retirados da base\n",
        "t_g = t_g.drop_duplicates('Name')"
      ],
      "metadata": {
        "id": "E2kuG3tskzxw"
      },
      "execution_count": null,
      "outputs": []
    },
    {
      "cell_type": "code",
      "source": [
        "# Exsistem 3636 bases mapeadas pelo SIGEL\n",
        "t_g"
      ],
      "metadata": {
        "colab": {
          "base_uri": "https://localhost:8080/",
          "height": 424
        },
        "id": "aTS_-ydvlP59",
        "outputId": "2bf22bb7-334a-483b-9d63-28fccf359e3d"
      },
      "execution_count": null,
      "outputs": [
        {
          "output_type": "execute_result",
          "data": {
            "text/plain": [
              "       Name                                           geometry\n",
              "0     12525  POLYGON Z ((-51.50051 -30.96237 0.00000, -51.3...\n",
              "1     16509  POLYGON Z ((-52.02439 -28.74837 0.00000, -51.9...\n",
              "2     15630  POLYGON Z ((-54.67014 -22.17814 0.00000, -54.6...\n",
              "3     13593  POLYGON Z ((-47.80600 -22.88300 0.00000, -47.7...\n",
              "4     13851  POLYGON Z ((-47.88184 -22.43132 0.00000, -47.8...\n",
              "...     ...                                                ...\n",
              "3651  12965  POLYGON Z ((-46.91569 -23.59842 0.00000, -46.9...\n",
              "3652  12907  POLYGON Z ((-46.78748 -23.74952 0.00000, -46.7...\n",
              "3653  12863  POLYGON Z ((-53.62570 -20.45397 0.00000, -53.6...\n",
              "3654  13771  POLYGON Z ((-42.89234 -21.22334 0.00000, -42.9...\n",
              "3656  14260  POLYGON Z ((-43.27156 -12.76859 0.00000, -43.2...\n",
              "\n",
              "[3636 rows x 2 columns]"
            ],
            "text/html": [
              "\n",
              "  <div id=\"df-63c24dc8-f028-42a6-b195-ac89bea3926a\">\n",
              "    <div class=\"colab-df-container\">\n",
              "      <div>\n",
              "<style scoped>\n",
              "    .dataframe tbody tr th:only-of-type {\n",
              "        vertical-align: middle;\n",
              "    }\n",
              "\n",
              "    .dataframe tbody tr th {\n",
              "        vertical-align: top;\n",
              "    }\n",
              "\n",
              "    .dataframe thead th {\n",
              "        text-align: right;\n",
              "    }\n",
              "</style>\n",
              "<table border=\"1\" class=\"dataframe\">\n",
              "  <thead>\n",
              "    <tr style=\"text-align: right;\">\n",
              "      <th></th>\n",
              "      <th>Name</th>\n",
              "      <th>geometry</th>\n",
              "    </tr>\n",
              "  </thead>\n",
              "  <tbody>\n",
              "    <tr>\n",
              "      <th>0</th>\n",
              "      <td>12525</td>\n",
              "      <td>POLYGON Z ((-51.50051 -30.96237 0.00000, -51.3...</td>\n",
              "    </tr>\n",
              "    <tr>\n",
              "      <th>1</th>\n",
              "      <td>16509</td>\n",
              "      <td>POLYGON Z ((-52.02439 -28.74837 0.00000, -51.9...</td>\n",
              "    </tr>\n",
              "    <tr>\n",
              "      <th>2</th>\n",
              "      <td>15630</td>\n",
              "      <td>POLYGON Z ((-54.67014 -22.17814 0.00000, -54.6...</td>\n",
              "    </tr>\n",
              "    <tr>\n",
              "      <th>3</th>\n",
              "      <td>13593</td>\n",
              "      <td>POLYGON Z ((-47.80600 -22.88300 0.00000, -47.7...</td>\n",
              "    </tr>\n",
              "    <tr>\n",
              "      <th>4</th>\n",
              "      <td>13851</td>\n",
              "      <td>POLYGON Z ((-47.88184 -22.43132 0.00000, -47.8...</td>\n",
              "    </tr>\n",
              "    <tr>\n",
              "      <th>...</th>\n",
              "      <td>...</td>\n",
              "      <td>...</td>\n",
              "    </tr>\n",
              "    <tr>\n",
              "      <th>3651</th>\n",
              "      <td>12965</td>\n",
              "      <td>POLYGON Z ((-46.91569 -23.59842 0.00000, -46.9...</td>\n",
              "    </tr>\n",
              "    <tr>\n",
              "      <th>3652</th>\n",
              "      <td>12907</td>\n",
              "      <td>POLYGON Z ((-46.78748 -23.74952 0.00000, -46.7...</td>\n",
              "    </tr>\n",
              "    <tr>\n",
              "      <th>3653</th>\n",
              "      <td>12863</td>\n",
              "      <td>POLYGON Z ((-53.62570 -20.45397 0.00000, -53.6...</td>\n",
              "    </tr>\n",
              "    <tr>\n",
              "      <th>3654</th>\n",
              "      <td>13771</td>\n",
              "      <td>POLYGON Z ((-42.89234 -21.22334 0.00000, -42.9...</td>\n",
              "    </tr>\n",
              "    <tr>\n",
              "      <th>3656</th>\n",
              "      <td>14260</td>\n",
              "      <td>POLYGON Z ((-43.27156 -12.76859 0.00000, -43.2...</td>\n",
              "    </tr>\n",
              "  </tbody>\n",
              "</table>\n",
              "<p>3636 rows × 2 columns</p>\n",
              "</div>\n",
              "      <button class=\"colab-df-convert\" onclick=\"convertToInteractive('df-63c24dc8-f028-42a6-b195-ac89bea3926a')\"\n",
              "              title=\"Convert this dataframe to an interactive table.\"\n",
              "              style=\"display:none;\">\n",
              "        \n",
              "  <svg xmlns=\"http://www.w3.org/2000/svg\" height=\"24px\"viewBox=\"0 0 24 24\"\n",
              "       width=\"24px\">\n",
              "    <path d=\"M0 0h24v24H0V0z\" fill=\"none\"/>\n",
              "    <path d=\"M18.56 5.44l.94 2.06.94-2.06 2.06-.94-2.06-.94-.94-2.06-.94 2.06-2.06.94zm-11 1L8.5 8.5l.94-2.06 2.06-.94-2.06-.94L8.5 2.5l-.94 2.06-2.06.94zm10 10l.94 2.06.94-2.06 2.06-.94-2.06-.94-.94-2.06-.94 2.06-2.06.94z\"/><path d=\"M17.41 7.96l-1.37-1.37c-.4-.4-.92-.59-1.43-.59-.52 0-1.04.2-1.43.59L10.3 9.45l-7.72 7.72c-.78.78-.78 2.05 0 2.83L4 21.41c.39.39.9.59 1.41.59.51 0 1.02-.2 1.41-.59l7.78-7.78 2.81-2.81c.8-.78.8-2.07 0-2.86zM5.41 20L4 18.59l7.72-7.72 1.47 1.35L5.41 20z\"/>\n",
              "  </svg>\n",
              "      </button>\n",
              "      \n",
              "  <style>\n",
              "    .colab-df-container {\n",
              "      display:flex;\n",
              "      flex-wrap:wrap;\n",
              "      gap: 12px;\n",
              "    }\n",
              "\n",
              "    .colab-df-convert {\n",
              "      background-color: #E8F0FE;\n",
              "      border: none;\n",
              "      border-radius: 50%;\n",
              "      cursor: pointer;\n",
              "      display: none;\n",
              "      fill: #1967D2;\n",
              "      height: 32px;\n",
              "      padding: 0 0 0 0;\n",
              "      width: 32px;\n",
              "    }\n",
              "\n",
              "    .colab-df-convert:hover {\n",
              "      background-color: #E2EBFA;\n",
              "      box-shadow: 0px 1px 2px rgba(60, 64, 67, 0.3), 0px 1px 3px 1px rgba(60, 64, 67, 0.15);\n",
              "      fill: #174EA6;\n",
              "    }\n",
              "\n",
              "    [theme=dark] .colab-df-convert {\n",
              "      background-color: #3B4455;\n",
              "      fill: #D2E3FC;\n",
              "    }\n",
              "\n",
              "    [theme=dark] .colab-df-convert:hover {\n",
              "      background-color: #434B5C;\n",
              "      box-shadow: 0px 1px 3px 1px rgba(0, 0, 0, 0.15);\n",
              "      filter: drop-shadow(0px 1px 2px rgba(0, 0, 0, 0.3));\n",
              "      fill: #FFFFFF;\n",
              "    }\n",
              "  </style>\n",
              "\n",
              "      <script>\n",
              "        const buttonEl =\n",
              "          document.querySelector('#df-63c24dc8-f028-42a6-b195-ac89bea3926a button.colab-df-convert');\n",
              "        buttonEl.style.display =\n",
              "          google.colab.kernel.accessAllowed ? 'block' : 'none';\n",
              "\n",
              "        async function convertToInteractive(key) {\n",
              "          const element = document.querySelector('#df-63c24dc8-f028-42a6-b195-ac89bea3926a');\n",
              "          const dataTable =\n",
              "            await google.colab.kernel.invokeFunction('convertToInteractive',\n",
              "                                                     [key], {});\n",
              "          if (!dataTable) return;\n",
              "\n",
              "          const docLinkHtml = 'Like what you see? Visit the ' +\n",
              "            '<a target=\"_blank\" href=https://colab.research.google.com/notebooks/data_table.ipynb>data table notebook</a>'\n",
              "            + ' to learn more about interactive tables.';\n",
              "          element.innerHTML = '';\n",
              "          dataTable['output_type'] = 'display_data';\n",
              "          await google.colab.output.renderOutput(dataTable, element);\n",
              "          const docLink = document.createElement('div');\n",
              "          docLink.innerHTML = docLinkHtml;\n",
              "          element.appendChild(docLink);\n",
              "        }\n",
              "      </script>\n",
              "    </div>\n",
              "  </div>\n",
              "  "
            ]
          },
          "metadata": {},
          "execution_count": 21
        }
      ]
    },
    {
      "cell_type": "code",
      "execution_count": null,
      "metadata": {
        "colab": {
          "base_uri": "https://localhost:8080/",
          "height": 424
        },
        "id": "xi5s-mPrX7VX",
        "outputId": "3d984dd5-98d7-4e36-a5a8-f93e0ce60ce0"
      },
      "outputs": [
        {
          "output_type": "execute_result",
          "data": {
            "text/plain": [
              "      Unnamed: 0  IdeConjUndConsumidoras DscConjUndConsumidoras\n",
              "0              0                 12479.0                CERPALO\n",
              "1             12                 12593.0         Sena Madureira\n",
              "2             24                 12597.0                Tangará\n",
              "3             36                 12636.0            cerbranorte\n",
              "4             48                 12643.0              Ariquemes\n",
              "...          ...                     ...                    ...\n",
              "3382     2520359                 16898.0              MATO ALTO\n",
              "3383     2520360                 16905.0         TOBIAS BARRETO\n",
              "3384     2520405                 16916.0                ITARANA\n",
              "3385     2520406                 16923.0                 PARATI\n",
              "3386     2520407                 16930.0              VILA RICA\n",
              "\n",
              "[3387 rows x 3 columns]"
            ],
            "text/html": [
              "\n",
              "  <div id=\"df-7dd4621f-3881-4a58-b1ab-c5b53dc274a1\">\n",
              "    <div class=\"colab-df-container\">\n",
              "      <div>\n",
              "<style scoped>\n",
              "    .dataframe tbody tr th:only-of-type {\n",
              "        vertical-align: middle;\n",
              "    }\n",
              "\n",
              "    .dataframe tbody tr th {\n",
              "        vertical-align: top;\n",
              "    }\n",
              "\n",
              "    .dataframe thead th {\n",
              "        text-align: right;\n",
              "    }\n",
              "</style>\n",
              "<table border=\"1\" class=\"dataframe\">\n",
              "  <thead>\n",
              "    <tr style=\"text-align: right;\">\n",
              "      <th></th>\n",
              "      <th>Unnamed: 0</th>\n",
              "      <th>IdeConjUndConsumidoras</th>\n",
              "      <th>DscConjUndConsumidoras</th>\n",
              "    </tr>\n",
              "  </thead>\n",
              "  <tbody>\n",
              "    <tr>\n",
              "      <th>0</th>\n",
              "      <td>0</td>\n",
              "      <td>12479.0</td>\n",
              "      <td>CERPALO</td>\n",
              "    </tr>\n",
              "    <tr>\n",
              "      <th>1</th>\n",
              "      <td>12</td>\n",
              "      <td>12593.0</td>\n",
              "      <td>Sena Madureira</td>\n",
              "    </tr>\n",
              "    <tr>\n",
              "      <th>2</th>\n",
              "      <td>24</td>\n",
              "      <td>12597.0</td>\n",
              "      <td>Tangará</td>\n",
              "    </tr>\n",
              "    <tr>\n",
              "      <th>3</th>\n",
              "      <td>36</td>\n",
              "      <td>12636.0</td>\n",
              "      <td>cerbranorte</td>\n",
              "    </tr>\n",
              "    <tr>\n",
              "      <th>4</th>\n",
              "      <td>48</td>\n",
              "      <td>12643.0</td>\n",
              "      <td>Ariquemes</td>\n",
              "    </tr>\n",
              "    <tr>\n",
              "      <th>...</th>\n",
              "      <td>...</td>\n",
              "      <td>...</td>\n",
              "      <td>...</td>\n",
              "    </tr>\n",
              "    <tr>\n",
              "      <th>3382</th>\n",
              "      <td>2520359</td>\n",
              "      <td>16898.0</td>\n",
              "      <td>MATO ALTO</td>\n",
              "    </tr>\n",
              "    <tr>\n",
              "      <th>3383</th>\n",
              "      <td>2520360</td>\n",
              "      <td>16905.0</td>\n",
              "      <td>TOBIAS BARRETO</td>\n",
              "    </tr>\n",
              "    <tr>\n",
              "      <th>3384</th>\n",
              "      <td>2520405</td>\n",
              "      <td>16916.0</td>\n",
              "      <td>ITARANA</td>\n",
              "    </tr>\n",
              "    <tr>\n",
              "      <th>3385</th>\n",
              "      <td>2520406</td>\n",
              "      <td>16923.0</td>\n",
              "      <td>PARATI</td>\n",
              "    </tr>\n",
              "    <tr>\n",
              "      <th>3386</th>\n",
              "      <td>2520407</td>\n",
              "      <td>16930.0</td>\n",
              "      <td>VILA RICA</td>\n",
              "    </tr>\n",
              "  </tbody>\n",
              "</table>\n",
              "<p>3387 rows × 3 columns</p>\n",
              "</div>\n",
              "      <button class=\"colab-df-convert\" onclick=\"convertToInteractive('df-7dd4621f-3881-4a58-b1ab-c5b53dc274a1')\"\n",
              "              title=\"Convert this dataframe to an interactive table.\"\n",
              "              style=\"display:none;\">\n",
              "        \n",
              "  <svg xmlns=\"http://www.w3.org/2000/svg\" height=\"24px\"viewBox=\"0 0 24 24\"\n",
              "       width=\"24px\">\n",
              "    <path d=\"M0 0h24v24H0V0z\" fill=\"none\"/>\n",
              "    <path d=\"M18.56 5.44l.94 2.06.94-2.06 2.06-.94-2.06-.94-.94-2.06-.94 2.06-2.06.94zm-11 1L8.5 8.5l.94-2.06 2.06-.94-2.06-.94L8.5 2.5l-.94 2.06-2.06.94zm10 10l.94 2.06.94-2.06 2.06-.94-2.06-.94-.94-2.06-.94 2.06-2.06.94z\"/><path d=\"M17.41 7.96l-1.37-1.37c-.4-.4-.92-.59-1.43-.59-.52 0-1.04.2-1.43.59L10.3 9.45l-7.72 7.72c-.78.78-.78 2.05 0 2.83L4 21.41c.39.39.9.59 1.41.59.51 0 1.02-.2 1.41-.59l7.78-7.78 2.81-2.81c.8-.78.8-2.07 0-2.86zM5.41 20L4 18.59l7.72-7.72 1.47 1.35L5.41 20z\"/>\n",
              "  </svg>\n",
              "      </button>\n",
              "      \n",
              "  <style>\n",
              "    .colab-df-container {\n",
              "      display:flex;\n",
              "      flex-wrap:wrap;\n",
              "      gap: 12px;\n",
              "    }\n",
              "\n",
              "    .colab-df-convert {\n",
              "      background-color: #E8F0FE;\n",
              "      border: none;\n",
              "      border-radius: 50%;\n",
              "      cursor: pointer;\n",
              "      display: none;\n",
              "      fill: #1967D2;\n",
              "      height: 32px;\n",
              "      padding: 0 0 0 0;\n",
              "      width: 32px;\n",
              "    }\n",
              "\n",
              "    .colab-df-convert:hover {\n",
              "      background-color: #E2EBFA;\n",
              "      box-shadow: 0px 1px 2px rgba(60, 64, 67, 0.3), 0px 1px 3px 1px rgba(60, 64, 67, 0.15);\n",
              "      fill: #174EA6;\n",
              "    }\n",
              "\n",
              "    [theme=dark] .colab-df-convert {\n",
              "      background-color: #3B4455;\n",
              "      fill: #D2E3FC;\n",
              "    }\n",
              "\n",
              "    [theme=dark] .colab-df-convert:hover {\n",
              "      background-color: #434B5C;\n",
              "      box-shadow: 0px 1px 3px 1px rgba(0, 0, 0, 0.15);\n",
              "      filter: drop-shadow(0px 1px 2px rgba(0, 0, 0, 0.3));\n",
              "      fill: #FFFFFF;\n",
              "    }\n",
              "  </style>\n",
              "\n",
              "      <script>\n",
              "        const buttonEl =\n",
              "          document.querySelector('#df-7dd4621f-3881-4a58-b1ab-c5b53dc274a1 button.colab-df-convert');\n",
              "        buttonEl.style.display =\n",
              "          google.colab.kernel.accessAllowed ? 'block' : 'none';\n",
              "\n",
              "        async function convertToInteractive(key) {\n",
              "          const element = document.querySelector('#df-7dd4621f-3881-4a58-b1ab-c5b53dc274a1');\n",
              "          const dataTable =\n",
              "            await google.colab.kernel.invokeFunction('convertToInteractive',\n",
              "                                                     [key], {});\n",
              "          if (!dataTable) return;\n",
              "\n",
              "          const docLinkHtml = 'Like what you see? Visit the ' +\n",
              "            '<a target=\"_blank\" href=https://colab.research.google.com/notebooks/data_table.ipynb>data table notebook</a>'\n",
              "            + ' to learn more about interactive tables.';\n",
              "          element.innerHTML = '';\n",
              "          dataTable['output_type'] = 'display_data';\n",
              "          await google.colab.output.renderOutput(dataTable, element);\n",
              "          const docLink = document.createElement('div');\n",
              "          docLink.innerHTML = docLinkHtml;\n",
              "          element.appendChild(docLink);\n",
              "        }\n",
              "      </script>\n",
              "    </div>\n",
              "  </div>\n",
              "  "
            ]
          },
          "metadata": {},
          "execution_count": 22
        }
      ],
      "source": [
        "de_para_conj = pd.read_csv(base_path + \"Ordens_servico/de_para_und_cons.csv\")\n",
        "de_para_conj"
      ]
    },
    {
      "cell_type": "code",
      "execution_count": null,
      "metadata": {
        "colab": {
          "base_uri": "https://localhost:8080/",
          "height": 424
        },
        "id": "5f9uUDxZR8Q7",
        "outputId": "02cee805-7f7f-45b6-9bea-2f0d5107120a"
      },
      "outputs": [
        {
          "output_type": "execute_result",
          "data": {
            "text/plain": [
              "       Name                                           geometry  Unnamed: 0  \\\n",
              "0     12525  POLYGON Z ((-51.50051 -30.96237 0.00000, -51.3...      110418   \n",
              "1     16509  POLYGON Z ((-52.02439 -28.74837 0.00000, -51.9...      325886   \n",
              "2     15630  POLYGON Z ((-54.67014 -22.17814 0.00000, -54.6...        5815   \n",
              "3     13593  POLYGON Z ((-47.80600 -22.88300 0.00000, -47.7...      111517   \n",
              "4     15044  POLYGON Z ((-43.27286 -22.87173 0.00000, -43.2...        4255   \n",
              "...     ...                                                ...         ...   \n",
              "3120  16198  POLYGON Z ((-43.19809 -5.27831 0.00000, -43.18...        6992   \n",
              "3121  12907  POLYGON Z ((-46.78748 -23.74952 0.00000, -46.7...      110762   \n",
              "3122  12863  POLYGON Z ((-53.62570 -20.45397 0.00000, -53.6...      429525   \n",
              "3123  13771  POLYGON Z ((-42.89234 -21.22334 0.00000, -42.9...      327562   \n",
              "3124  14260  POLYGON Z ((-43.27156 -12.76859 0.00000, -43.2...      540451   \n",
              "\n",
              "      IdeConjUndConsumidoras DscConjUndConsumidoras  \n",
              "0                    12525.0                CAMAQUÃ  \n",
              "1                    16509.0                Guaporé  \n",
              "2                    15630.0    DOURADOS DAS NAÇÕES  \n",
              "3                    13593.0                  TIETE  \n",
              "4                    15044.0       TERRA NOVA AEREO  \n",
              "...                      ...                    ...  \n",
              "3120                 16198.0                 MATOES  \n",
              "3121                 12907.0             EMBU GUAÇU  \n",
              "3122                 12863.0                 MIMOSO  \n",
              "3123                 13771.0                RODEIRO  \n",
              "3124                 14260.0      BOM JESUS DA LAPA  \n",
              "\n",
              "[3125 rows x 5 columns]"
            ],
            "text/html": [
              "\n",
              "  <div id=\"df-8bddeeda-ed98-4be8-80ef-de3824ab4318\">\n",
              "    <div class=\"colab-df-container\">\n",
              "      <div>\n",
              "<style scoped>\n",
              "    .dataframe tbody tr th:only-of-type {\n",
              "        vertical-align: middle;\n",
              "    }\n",
              "\n",
              "    .dataframe tbody tr th {\n",
              "        vertical-align: top;\n",
              "    }\n",
              "\n",
              "    .dataframe thead th {\n",
              "        text-align: right;\n",
              "    }\n",
              "</style>\n",
              "<table border=\"1\" class=\"dataframe\">\n",
              "  <thead>\n",
              "    <tr style=\"text-align: right;\">\n",
              "      <th></th>\n",
              "      <th>Name</th>\n",
              "      <th>geometry</th>\n",
              "      <th>Unnamed: 0</th>\n",
              "      <th>IdeConjUndConsumidoras</th>\n",
              "      <th>DscConjUndConsumidoras</th>\n",
              "    </tr>\n",
              "  </thead>\n",
              "  <tbody>\n",
              "    <tr>\n",
              "      <th>0</th>\n",
              "      <td>12525</td>\n",
              "      <td>POLYGON Z ((-51.50051 -30.96237 0.00000, -51.3...</td>\n",
              "      <td>110418</td>\n",
              "      <td>12525.0</td>\n",
              "      <td>CAMAQUÃ</td>\n",
              "    </tr>\n",
              "    <tr>\n",
              "      <th>1</th>\n",
              "      <td>16509</td>\n",
              "      <td>POLYGON Z ((-52.02439 -28.74837 0.00000, -51.9...</td>\n",
              "      <td>325886</td>\n",
              "      <td>16509.0</td>\n",
              "      <td>Guaporé</td>\n",
              "    </tr>\n",
              "    <tr>\n",
              "      <th>2</th>\n",
              "      <td>15630</td>\n",
              "      <td>POLYGON Z ((-54.67014 -22.17814 0.00000, -54.6...</td>\n",
              "      <td>5815</td>\n",
              "      <td>15630.0</td>\n",
              "      <td>DOURADOS DAS NAÇÕES</td>\n",
              "    </tr>\n",
              "    <tr>\n",
              "      <th>3</th>\n",
              "      <td>13593</td>\n",
              "      <td>POLYGON Z ((-47.80600 -22.88300 0.00000, -47.7...</td>\n",
              "      <td>111517</td>\n",
              "      <td>13593.0</td>\n",
              "      <td>TIETE</td>\n",
              "    </tr>\n",
              "    <tr>\n",
              "      <th>4</th>\n",
              "      <td>15044</td>\n",
              "      <td>POLYGON Z ((-43.27286 -22.87173 0.00000, -43.2...</td>\n",
              "      <td>4255</td>\n",
              "      <td>15044.0</td>\n",
              "      <td>TERRA NOVA AEREO</td>\n",
              "    </tr>\n",
              "    <tr>\n",
              "      <th>...</th>\n",
              "      <td>...</td>\n",
              "      <td>...</td>\n",
              "      <td>...</td>\n",
              "      <td>...</td>\n",
              "      <td>...</td>\n",
              "    </tr>\n",
              "    <tr>\n",
              "      <th>3120</th>\n",
              "      <td>16198</td>\n",
              "      <td>POLYGON Z ((-43.19809 -5.27831 0.00000, -43.18...</td>\n",
              "      <td>6992</td>\n",
              "      <td>16198.0</td>\n",
              "      <td>MATOES</td>\n",
              "    </tr>\n",
              "    <tr>\n",
              "      <th>3121</th>\n",
              "      <td>12907</td>\n",
              "      <td>POLYGON Z ((-46.78748 -23.74952 0.00000, -46.7...</td>\n",
              "      <td>110762</td>\n",
              "      <td>12907.0</td>\n",
              "      <td>EMBU GUAÇU</td>\n",
              "    </tr>\n",
              "    <tr>\n",
              "      <th>3122</th>\n",
              "      <td>12863</td>\n",
              "      <td>POLYGON Z ((-53.62570 -20.45397 0.00000, -53.6...</td>\n",
              "      <td>429525</td>\n",
              "      <td>12863.0</td>\n",
              "      <td>MIMOSO</td>\n",
              "    </tr>\n",
              "    <tr>\n",
              "      <th>3123</th>\n",
              "      <td>13771</td>\n",
              "      <td>POLYGON Z ((-42.89234 -21.22334 0.00000, -42.9...</td>\n",
              "      <td>327562</td>\n",
              "      <td>13771.0</td>\n",
              "      <td>RODEIRO</td>\n",
              "    </tr>\n",
              "    <tr>\n",
              "      <th>3124</th>\n",
              "      <td>14260</td>\n",
              "      <td>POLYGON Z ((-43.27156 -12.76859 0.00000, -43.2...</td>\n",
              "      <td>540451</td>\n",
              "      <td>14260.0</td>\n",
              "      <td>BOM JESUS DA LAPA</td>\n",
              "    </tr>\n",
              "  </tbody>\n",
              "</table>\n",
              "<p>3125 rows × 5 columns</p>\n",
              "</div>\n",
              "      <button class=\"colab-df-convert\" onclick=\"convertToInteractive('df-8bddeeda-ed98-4be8-80ef-de3824ab4318')\"\n",
              "              title=\"Convert this dataframe to an interactive table.\"\n",
              "              style=\"display:none;\">\n",
              "        \n",
              "  <svg xmlns=\"http://www.w3.org/2000/svg\" height=\"24px\"viewBox=\"0 0 24 24\"\n",
              "       width=\"24px\">\n",
              "    <path d=\"M0 0h24v24H0V0z\" fill=\"none\"/>\n",
              "    <path d=\"M18.56 5.44l.94 2.06.94-2.06 2.06-.94-2.06-.94-.94-2.06-.94 2.06-2.06.94zm-11 1L8.5 8.5l.94-2.06 2.06-.94-2.06-.94L8.5 2.5l-.94 2.06-2.06.94zm10 10l.94 2.06.94-2.06 2.06-.94-2.06-.94-.94-2.06-.94 2.06-2.06.94z\"/><path d=\"M17.41 7.96l-1.37-1.37c-.4-.4-.92-.59-1.43-.59-.52 0-1.04.2-1.43.59L10.3 9.45l-7.72 7.72c-.78.78-.78 2.05 0 2.83L4 21.41c.39.39.9.59 1.41.59.51 0 1.02-.2 1.41-.59l7.78-7.78 2.81-2.81c.8-.78.8-2.07 0-2.86zM5.41 20L4 18.59l7.72-7.72 1.47 1.35L5.41 20z\"/>\n",
              "  </svg>\n",
              "      </button>\n",
              "      \n",
              "  <style>\n",
              "    .colab-df-container {\n",
              "      display:flex;\n",
              "      flex-wrap:wrap;\n",
              "      gap: 12px;\n",
              "    }\n",
              "\n",
              "    .colab-df-convert {\n",
              "      background-color: #E8F0FE;\n",
              "      border: none;\n",
              "      border-radius: 50%;\n",
              "      cursor: pointer;\n",
              "      display: none;\n",
              "      fill: #1967D2;\n",
              "      height: 32px;\n",
              "      padding: 0 0 0 0;\n",
              "      width: 32px;\n",
              "    }\n",
              "\n",
              "    .colab-df-convert:hover {\n",
              "      background-color: #E2EBFA;\n",
              "      box-shadow: 0px 1px 2px rgba(60, 64, 67, 0.3), 0px 1px 3px 1px rgba(60, 64, 67, 0.15);\n",
              "      fill: #174EA6;\n",
              "    }\n",
              "\n",
              "    [theme=dark] .colab-df-convert {\n",
              "      background-color: #3B4455;\n",
              "      fill: #D2E3FC;\n",
              "    }\n",
              "\n",
              "    [theme=dark] .colab-df-convert:hover {\n",
              "      background-color: #434B5C;\n",
              "      box-shadow: 0px 1px 3px 1px rgba(0, 0, 0, 0.15);\n",
              "      filter: drop-shadow(0px 1px 2px rgba(0, 0, 0, 0.3));\n",
              "      fill: #FFFFFF;\n",
              "    }\n",
              "  </style>\n",
              "\n",
              "      <script>\n",
              "        const buttonEl =\n",
              "          document.querySelector('#df-8bddeeda-ed98-4be8-80ef-de3824ab4318 button.colab-df-convert');\n",
              "        buttonEl.style.display =\n",
              "          google.colab.kernel.accessAllowed ? 'block' : 'none';\n",
              "\n",
              "        async function convertToInteractive(key) {\n",
              "          const element = document.querySelector('#df-8bddeeda-ed98-4be8-80ef-de3824ab4318');\n",
              "          const dataTable =\n",
              "            await google.colab.kernel.invokeFunction('convertToInteractive',\n",
              "                                                     [key], {});\n",
              "          if (!dataTable) return;\n",
              "\n",
              "          const docLinkHtml = 'Like what you see? Visit the ' +\n",
              "            '<a target=\"_blank\" href=https://colab.research.google.com/notebooks/data_table.ipynb>data table notebook</a>'\n",
              "            + ' to learn more about interactive tables.';\n",
              "          element.innerHTML = '';\n",
              "          dataTable['output_type'] = 'display_data';\n",
              "          await google.colab.output.renderOutput(dataTable, element);\n",
              "          const docLink = document.createElement('div');\n",
              "          docLink.innerHTML = docLinkHtml;\n",
              "          element.appendChild(docLink);\n",
              "        }\n",
              "      </script>\n",
              "    </div>\n",
              "  </div>\n",
              "  "
            ]
          },
          "metadata": {},
          "execution_count": 35
        }
      ],
      "source": [
        "# Existem 3125 conjuntos em que temos o identificador e a geometria mapeados\n",
        "de_para_conj_ = t_g.merge(de_para_conj, left_on=\"Name\", right_on=\"IdeConjUndConsumidoras\", how='inner')\n",
        "de_para_conj_"
      ]
    },
    {
      "cell_type": "code",
      "source": [
        "de_para_conj_.to_file(base_path + \"Ordens_servico/de_para_und_cons_.json\", driver='GeoJSON')"
      ],
      "metadata": {
        "id": "egjFGndzmMVs"
      },
      "execution_count": null,
      "outputs": []
    },
    {
      "cell_type": "markdown",
      "metadata": {
        "id": "KZidhziqMcRl"
      },
      "source": [
        "## Inclui as informacoes geograficas (caracteristica geograficas) nas informacoes de conjuntos\n",
        "\n",
        "Sao adicionados o raio, o perimetro e a area de cada conjunto\n",
        "\n",
        "---\n",
        "\n"
      ]
    },
    {
      "cell_type": "code",
      "source": [
        "# Reference to CRS Coordinate System - https://rspatial.org/terra/spatial/6-crs.html"
      ],
      "metadata": {
        "id": "WYvSVrnl5pAp"
      },
      "execution_count": null,
      "outputs": []
    },
    {
      "cell_type": "code",
      "source": [
        "de_para_conj_ = gpd.read_file(base_path + \"Ordens_servico/de_para_und_cons_.json\", driver='GeoJSON')"
      ],
      "metadata": {
        "id": "CIAl7kaatlOm"
      },
      "execution_count": null,
      "outputs": []
    },
    {
      "cell_type": "code",
      "source": [
        "# Alguns conjuntos apresentam a mesma descricao porem com IDs e coordenadas geograficas diferentes. Esses dados sao retirados\n",
        "de_para_conj_[de_para_conj_.DscConjUndConsumidoras == \"BOM JARDIM\"].plot()"
      ],
      "metadata": {
        "colab": {
          "base_uri": "https://localhost:8080/",
          "height": 447
        },
        "id": "7mqj1JEyvriM",
        "outputId": "f7b26dfd-98a3-4e57-e70d-877e0bb5de4f"
      },
      "execution_count": null,
      "outputs": [
        {
          "output_type": "execute_result",
          "data": {
            "text/plain": [
              "<Axes: >"
            ]
          },
          "metadata": {},
          "execution_count": 102
        },
        {
          "output_type": "display_data",
          "data": {
            "text/plain": [
              "<Figure size 640x480 with 1 Axes>"
            ],
            "image/png": "[encoded data removed]"
          },
          "metadata": {}
        }
      ]
    },
    {
      "cell_type": "code",
      "source": [
        "# 94 conjuntos dos 3125 apresentam dados com nomes repetidos - Casos retirados\n",
        "de_para_conj_repeated = de_para_conj_.groupby([\"DscConjUndConsumidoras\"])[\"geometry\"].count().sort_values(ascending=False)\n",
        "de_para_conj_repeated = de_para_conj_repeated[de_para_conj_repeated > 1]\n",
        "de_para_conj_ = de_para_conj_[~de_para_conj_.DscConjUndConsumidoras.isin(de_para_conj_repeated.index)]\n",
        "de_para_conj_"
      ],
      "metadata": {
        "colab": {
          "base_uri": "https://localhost:8080/",
          "height": 424
        },
        "id": "CTAIlHgTy-ks",
        "outputId": "74a56315-c813-4eaa-f02a-ad1237f05f8f"
      },
      "execution_count": null,
      "outputs": [
        {
          "output_type": "execute_result",
          "data": {
            "text/plain": [
              "       Name  Unnamed: 0  IdeConjUndConsumidoras DscConjUndConsumidoras  \\\n",
              "0     12525      110418                 12525.0                CAMAQUÃ   \n",
              "1     16509      325886                 16509.0                Guaporé   \n",
              "2     15630        5815                 15630.0    DOURADOS DAS NAÇÕES   \n",
              "3     13593      111517                 13593.0                  TIETE   \n",
              "4     15044        4255                 15044.0       TERRA NOVA AEREO   \n",
              "...     ...         ...                     ...                    ...   \n",
              "3120  16198        6992                 16198.0                 MATOES   \n",
              "3121  12907      110762                 12907.0             EMBU GUAÇU   \n",
              "3122  12863      429525                 12863.0                 MIMOSO   \n",
              "3123  13771      327562                 13771.0                RODEIRO   \n",
              "3124  14260      540451                 14260.0      BOM JESUS DA LAPA   \n",
              "\n",
              "      MUN_MINIMUM_BOUND_RADIO MUN_NUMBER_OF_BOUNDARYS      AREA    LENGTH  \\\n",
              "0                    0.561293                     149  0.438325  3.710852   \n",
              "1                    0.320427                     531  0.122356  3.512604   \n",
              "2                    0.194285                     516  0.043815  1.150031   \n",
              "3                    0.161835                     440  0.029765  1.444788   \n",
              "4                    0.022936                     408  0.000660  0.298677   \n",
              "...                       ...                     ...       ...       ...   \n",
              "3120                 0.538188                     539  0.305642  3.259529   \n",
              "3121                 0.126946                      90  0.015497  0.764108   \n",
              "3122                 0.486715                    3552  0.490099  3.317999   \n",
              "3123                 0.126113                      77  0.019781  0.775100   \n",
              "3124                 0.447489                    1233  0.215087  2.657366   \n",
              "\n",
              "                                               geometry  \n",
              "0     POLYGON Z ((-51.50051 -30.96237 0.00000, -51.3...  \n",
              "1     POLYGON Z ((-52.02439 -28.74837 0.00000, -51.9...  \n",
              "2     POLYGON Z ((-54.67014 -22.17814 0.00000, -54.6...  \n",
              "3     POLYGON Z ((-47.80600 -22.88300 0.00000, -47.7...  \n",
              "4     POLYGON Z ((-43.27286 -22.87173 0.00000, -43.2...  \n",
              "...                                                 ...  \n",
              "3120  POLYGON Z ((-43.19809 -5.27831 0.00000, -43.18...  \n",
              "3121  POLYGON Z ((-46.78748 -23.74952 0.00000, -46.7...  \n",
              "3122  POLYGON Z ((-53.62570 -20.45397 0.00000, -53.6...  \n",
              "3123  POLYGON Z ((-42.89234 -21.22334 0.00000, -42.9...  \n",
              "3124  POLYGON Z ((-43.27156 -12.76859 0.00000, -43.2...  \n",
              "\n",
              "[2922 rows x 9 columns]"
            ],
            "text/html": [
              "\n",
              "  <div id=\"df-523b371d-1777-41cb-a83f-0a783e985a00\">\n",
              "    <div class=\"colab-df-container\">\n",
              "      <div>\n",
              "<style scoped>\n",
              "    .dataframe tbody tr th:only-of-type {\n",
              "        vertical-align: middle;\n",
              "    }\n",
              "\n",
              "    .dataframe tbody tr th {\n",
              "        vertical-align: top;\n",
              "    }\n",
              "\n",
              "    .dataframe thead th {\n",
              "        text-align: right;\n",
              "    }\n",
              "</style>\n",
              "<table border=\"1\" class=\"dataframe\">\n",
              "  <thead>\n",
              "    <tr style=\"text-align: right;\">\n",
              "      <th></th>\n",
              "      <th>Name</th>\n",
              "      <th>Unnamed: 0</th>\n",
              "      <th>IdeConjUndConsumidoras</th>\n",
              "      <th>DscConjUndConsumidoras</th>\n",
              "      <th>MUN_MINIMUM_BOUND_RADIO</th>\n",
              "      <th>MUN_NUMBER_OF_BOUNDARYS</th>\n",
              "      <th>AREA</th>\n",
              "      <th>LENGTH</th>\n",
              "      <th>geometry</th>\n",
              "    </tr>\n",
              "  </thead>\n",
              "  <tbody>\n",
              "    <tr>\n",
              "      <th>0</th>\n",
              "      <td>12525</td>\n",
              "      <td>110418</td>\n",
              "      <td>12525.0</td>\n",
              "      <td>CAMAQUÃ</td>\n",
              "      <td>0.561293</td>\n",
              "      <td>149</td>\n",
              "      <td>0.438325</td>\n",
              "      <td>3.710852</td>\n",
              "      <td>POLYGON Z ((-51.50051 -30.96237 0.00000, -51.3...</td>\n",
              "    </tr>\n",
              "    <tr>\n",
              "      <th>1</th>\n",
              "      <td>16509</td>\n",
              "      <td>325886</td>\n",
              "      <td>16509.0</td>\n",
              "      <td>Guaporé</td>\n",
              "      <td>0.320427</td>\n",
              "      <td>531</td>\n",
              "      <td>0.122356</td>\n",
              "      <td>3.512604</td>\n",
              "      <td>POLYGON Z ((-52.02439 -28.74837 0.00000, -51.9...</td>\n",
              "    </tr>\n",
              "    <tr>\n",
              "      <th>2</th>\n",
              "      <td>15630</td>\n",
              "      <td>5815</td>\n",
              "      <td>15630.0</td>\n",
              "      <td>DOURADOS DAS NAÇÕES</td>\n",
              "      <td>0.194285</td>\n",
              "      <td>516</td>\n",
              "      <td>0.043815</td>\n",
              "      <td>1.150031</td>\n",
              "      <td>POLYGON Z ((-54.67014 -22.17814 0.00000, -54.6...</td>\n",
              "    </tr>\n",
              "    <tr>\n",
              "      <th>3</th>\n",
              "      <td>13593</td>\n",
              "      <td>111517</td>\n",
              "      <td>13593.0</td>\n",
              "      <td>TIETE</td>\n",
              "      <td>0.161835</td>\n",
              "      <td>440</td>\n",
              "      <td>0.029765</td>\n",
              "      <td>1.444788</td>\n",
              "      <td>POLYGON Z ((-47.80600 -22.88300 0.00000, -47.7...</td>\n",
              "    </tr>\n",
              "    <tr>\n",
              "      <th>4</th>\n",
              "      <td>15044</td>\n",
              "      <td>4255</td>\n",
              "      <td>15044.0</td>\n",
              "      <td>TERRA NOVA AEREO</td>\n",
              "      <td>0.022936</td>\n",
              "      <td>408</td>\n",
              "      <td>0.000660</td>\n",
              "      <td>0.298677</td>\n",
              "      <td>POLYGON Z ((-43.27286 -22.87173 0.00000, -43.2...</td>\n",
              "    </tr>\n",
              "    <tr>\n",
              "      <th>...</th>\n",
              "      <td>...</td>\n",
              "      <td>...</td>\n",
              "      <td>...</td>\n",
              "      <td>...</td>\n",
              "      <td>...</td>\n",
              "      <td>...</td>\n",
              "      <td>...</td>\n",
              "      <td>...</td>\n",
              "      <td>...</td>\n",
              "    </tr>\n",
              "    <tr>\n",
              "      <th>3120</th>\n",
              "      <td>16198</td>\n",
              "      <td>6992</td>\n",
              "      <td>16198.0</td>\n",
              "      <td>MATOES</td>\n",
              "      <td>0.538188</td>\n",
              "      <td>539</td>\n",
              "      <td>0.305642</td>\n",
              "      <td>3.259529</td>\n",
              "      <td>POLYGON Z ((-43.19809 -5.27831 0.00000, -43.18...</td>\n",
              "    </tr>\n",
              "    <tr>\n",
              "      <th>3121</th>\n",
              "      <td>12907</td>\n",
              "      <td>110762</td>\n",
              "      <td>12907.0</td>\n",
              "      <td>EMBU GUAÇU</td>\n",
              "      <td>0.126946</td>\n",
              "      <td>90</td>\n",
              "      <td>0.015497</td>\n",
              "      <td>0.764108</td>\n",
              "      <td>POLYGON Z ((-46.78748 -23.74952 0.00000, -46.7...</td>\n",
              "    </tr>\n",
              "    <tr>\n",
              "      <th>3122</th>\n",
              "      <td>12863</td>\n",
              "      <td>429525</td>\n",
              "      <td>12863.0</td>\n",
              "      <td>MIMOSO</td>\n",
              "      <td>0.486715</td>\n",
              "      <td>3552</td>\n",
              "      <td>0.490099</td>\n",
              "      <td>3.317999</td>\n",
              "      <td>POLYGON Z ((-53.62570 -20.45397 0.00000, -53.6...</td>\n",
              "    </tr>\n",
              "    <tr>\n",
              "      <th>3123</th>\n",
              "      <td>13771</td>\n",
              "      <td>327562</td>\n",
              "      <td>13771.0</td>\n",
              "      <td>RODEIRO</td>\n",
              "      <td>0.126113</td>\n",
              "      <td>77</td>\n",
              "      <td>0.019781</td>\n",
              "      <td>0.775100</td>\n",
              "      <td>POLYGON Z ((-42.89234 -21.22334 0.00000, -42.9...</td>\n",
              "    </tr>\n",
              "    <tr>\n",
              "      <th>3124</th>\n",
              "      <td>14260</td>\n",
              "      <td>540451</td>\n",
              "      <td>14260.0</td>\n",
              "      <td>BOM JESUS DA LAPA</td>\n",
              "      <td>0.447489</td>\n",
              "      <td>1233</td>\n",
              "      <td>0.215087</td>\n",
              "      <td>2.657366</td>\n",
              "      <td>POLYGON Z ((-43.27156 -12.76859 0.00000, -43.2...</td>\n",
              "    </tr>\n",
              "  </tbody>\n",
              "</table>\n",
              "<p>2922 rows × 9 columns</p>\n",
              "</div>\n",
              "      <button class=\"colab-df-convert\" onclick=\"convertToInteractive('df-523b371d-1777-41cb-a83f-0a783e985a00')\"\n",
              "              title=\"Convert this dataframe to an interactive table.\"\n",
              "              style=\"display:none;\">\n",
              "        \n",
              "  <svg xmlns=\"http://www.w3.org/2000/svg\" height=\"24px\"viewBox=\"0 0 24 24\"\n",
              "       width=\"24px\">\n",
              "    <path d=\"M0 0h24v24H0V0z\" fill=\"none\"/>\n",
              "    <path d=\"M18.56 5.44l.94 2.06.94-2.06 2.06-.94-2.06-.94-.94-2.06-.94 2.06-2.06.94zm-11 1L8.5 8.5l.94-2.06 2.06-.94-2.06-.94L8.5 2.5l-.94 2.06-2.06.94zm10 10l.94 2.06.94-2.06 2.06-.94-2.06-.94-.94-2.06-.94 2.06-2.06.94z\"/><path d=\"M17.41 7.96l-1.37-1.37c-.4-.4-.92-.59-1.43-.59-.52 0-1.04.2-1.43.59L10.3 9.45l-7.72 7.72c-.78.78-.78 2.05 0 2.83L4 21.41c.39.39.9.59 1.41.59.51 0 1.02-.2 1.41-.59l7.78-7.78 2.81-2.81c.8-.78.8-2.07 0-2.86zM5.41 20L4 18.59l7.72-7.72 1.47 1.35L5.41 20z\"/>\n",
              "  </svg>\n",
              "      </button>\n",
              "      \n",
              "  <style>\n",
              "    .colab-df-container {\n",
              "      display:flex;\n",
              "      flex-wrap:wrap;\n",
              "      gap: 12px;\n",
              "    }\n",
              "\n",
              "    .colab-df-convert {\n",
              "      background-color: #E8F0FE;\n",
              "      border: none;\n",
              "      border-radius: 50%;\n",
              "      cursor: pointer;\n",
              "      display: none;\n",
              "      fill: #1967D2;\n",
              "      height: 32px;\n",
              "      padding: 0 0 0 0;\n",
              "      width: 32px;\n",
              "    }\n",
              "\n",
              "    .colab-df-convert:hover {\n",
              "      background-color: #E2EBFA;\n",
              "      box-shadow: 0px 1px 2px rgba(60, 64, 67, 0.3), 0px 1px 3px 1px rgba(60, 64, 67, 0.15);\n",
              "      fill: #174EA6;\n",
              "    }\n",
              "\n",
              "    [theme=dark] .colab-df-convert {\n",
              "      background-color: #3B4455;\n",
              "      fill: #D2E3FC;\n",
              "    }\n",
              "\n",
              "    [theme=dark] .colab-df-convert:hover {\n",
              "      background-color: #434B5C;\n",
              "      box-shadow: 0px 1px 3px 1px rgba(0, 0, 0, 0.15);\n",
              "      filter: drop-shadow(0px 1px 2px rgba(0, 0, 0, 0.3));\n",
              "      fill: #FFFFFF;\n",
              "    }\n",
              "  </style>\n",
              "\n",
              "      <script>\n",
              "        const buttonEl =\n",
              "          document.querySelector('#df-523b371d-1777-41cb-a83f-0a783e985a00 button.colab-df-convert');\n",
              "        buttonEl.style.display =\n",
              "          google.colab.kernel.accessAllowed ? 'block' : 'none';\n",
              "\n",
              "        async function convertToInteractive(key) {\n",
              "          const element = document.querySelector('#df-523b371d-1777-41cb-a83f-0a783e985a00');\n",
              "          const dataTable =\n",
              "            await google.colab.kernel.invokeFunction('convertToInteractive',\n",
              "                                                     [key], {});\n",
              "          if (!dataTable) return;\n",
              "\n",
              "          const docLinkHtml = 'Like what you see? Visit the ' +\n",
              "            '<a target=\"_blank\" href=https://colab.research.google.com/notebooks/data_table.ipynb>data table notebook</a>'\n",
              "            + ' to learn more about interactive tables.';\n",
              "          element.innerHTML = '';\n",
              "          dataTable['output_type'] = 'display_data';\n",
              "          await google.colab.output.renderOutput(dataTable, element);\n",
              "          const docLink = document.createElement('div');\n",
              "          docLink.innerHTML = docLinkHtml;\n",
              "          element.appendChild(docLink);\n",
              "        }\n",
              "      </script>\n",
              "    </div>\n",
              "  </div>\n",
              "  "
            ]
          },
          "metadata": {},
          "execution_count": 109
        }
      ]
    },
    {
      "cell_type": "code",
      "source": [
        "# Faz o processomento espacial de buffer das coordenadas geograficas de latitude e longitude\n",
        "# Aplicacao do buffet\n",
        "# gdf = geopandas.GeoDataFrame(df, geometry=geopandas.points_from_xy(df.LONGITUDE, df.LATITUDE), crs=\"EPSG:5880\")\n",
        "# gdf = gdf.to_crs(\"EPSG:5880\")\n",
        "# gdf[\"buffered\"] = gdf.buffer(1000000)\n",
        "# # https://reconshell.com/wp-content/uploads/2022/09/Machine_Learning_on_Geographical_Data_Using_Python.pdf\n",
        "# gdf[[\"geometry\", \"buffered\"]]"
      ],
      "metadata": {
        "id": "Iz5R-WUo5vUm"
      },
      "execution_count": null,
      "outputs": []
    },
    {
      "cell_type": "code",
      "source": [
        "# Returns a Series with the radio of the minumum bounding circle that contain it\n",
        "de_para_conj_[\"MUN_MINIMUM_BOUND_RADIO\"] = de_para_conj_.geometry.minimum_bounding_radius()"
      ],
      "metadata": {
        "id": "A9hO_eltvkJM",
        "colab": {
          "base_uri": "https://localhost:8080/"
        },
        "outputId": "6f147dfb-dac5-4f8f-b328-4204835a723b"
      },
      "execution_count": null,
      "outputs": [
        {
          "output_type": "stream",
          "name": "stderr",
          "text": [
            "/usr/local/lib/python3.10/dist-packages/geopandas/geodataframe.py:1538: SettingWithCopyWarning: \n",
            "A value is trying to be set on a copy of a slice from a DataFrame.\n",
            "Try using .loc[row_indexer,col_indexer] = value instead\n",
            "\n",
            "See the caveats in the documentation: https://pandas.pydata.org/pandas-docs/stable/user_guide/indexing.html#returning-a-view-versus-a-copy\n",
            "  super().__setitem__(key, value)\n"
          ]
        }
      ]
    },
    {
      "cell_type": "code",
      "source": [
        "# Returns a Series containing the length of each geometry expressed in the units of the CRS. - https://geopandas.org/en/stable/docs/reference/api/geopandas.GeoSeries.length.html"
      ],
      "metadata": {
        "id": "pnyaJpY150nC"
      },
      "execution_count": null,
      "outputs": []
    },
    {
      "cell_type": "code",
      "source": [
        "# Return the number of boundarys of a Polygon (aproximmation to perimeter). Return only for Polygons, to Multigeometry (regions with multi polygons) need a treatment to calculate\n",
        "def get_boundarys_number(row):\n",
        "  if row.geometry:\n",
        "    multi = row.geometry.type.startswith(\"Multi\")\n",
        "\n",
        "    if multi:\n",
        "      # n =0\n",
        "      return \"Multipolygon\"\n",
        "      # inter over all parts of geometry\n",
        "      # for part in row.geometry:\n",
        "        # n = n + len(part.exterior.coords)\n",
        "\n",
        "    else:\n",
        "      n = len(row.geometry.exterior.coords)\n",
        "\n",
        "    return n\n",
        "\n",
        "  else:\n",
        "    return None\n",
        "\n",
        "de_para_conj_[\"MUN_NUMBER_OF_BOUNDARYS\"] = de_para_conj_.apply(get_boundarys_number, axis=1)\n",
        "de_para_conj_[\"MUN_NUMBER_OF_BOUNDARYS\"]"
      ],
      "metadata": {
        "colab": {
          "base_uri": "https://localhost:8080/"
        },
        "id": "mbV0PyN7vX8T",
        "outputId": "d84e242d-3f98-4636-8c8b-c9bfd0d96f25"
      },
      "execution_count": null,
      "outputs": [
        {
          "output_type": "stream",
          "name": "stderr",
          "text": [
            "<ipython-input-113-d70e5d2f8e48>:4: ShapelyDeprecationWarning: The 'type' attribute is deprecated, and will be removed in the future. You can use the 'geom_type' attribute instead.\n",
            "  multi = row.geometry.type.startswith(\"Multi\")\n",
            "/usr/local/lib/python3.10/dist-packages/geopandas/geodataframe.py:1538: SettingWithCopyWarning: \n",
            "A value is trying to be set on a copy of a slice from a DataFrame.\n",
            "Try using .loc[row_indexer,col_indexer] = value instead\n",
            "\n",
            "See the caveats in the documentation: https://pandas.pydata.org/pandas-docs/stable/user_guide/indexing.html#returning-a-view-versus-a-copy\n",
            "  super().__setitem__(key, value)\n"
          ]
        },
        {
          "output_type": "execute_result",
          "data": {
            "text/plain": [
              "0        149\n",
              "1        531\n",
              "2        516\n",
              "3        440\n",
              "4        408\n",
              "        ... \n",
              "3120     539\n",
              "3121      90\n",
              "3122    3552\n",
              "3123      77\n",
              "3124    1233\n",
              "Name: MUN_NUMBER_OF_BOUNDARYS, Length: 2922, dtype: object"
            ]
          },
          "metadata": {},
          "execution_count": 113
        }
      ]
    },
    {
      "cell_type": "code",
      "source": [
        "# Return the lenght (perimeters) of each geometry\n",
        "de_para_conj_[\"LENGTH\"] = de_para_conj_.geometry.length"
      ],
      "metadata": {
        "colab": {
          "base_uri": "https://localhost:8080/"
        },
        "id": "3_9wO9FCnBG7",
        "outputId": "add7e03f-83fe-4197-c11a-99f910f1b83a"
      },
      "execution_count": null,
      "outputs": [
        {
          "output_type": "stream",
          "name": "stderr",
          "text": [
            "<ipython-input-114-adf52cda0e41>:2: UserWarning: Geometry is in a geographic CRS. Results from 'length' are likely incorrect. Use 'GeoSeries.to_crs()' to re-project geometries to a projected CRS before this operation.\n",
            "\n",
            "  de_para_conj_[\"LENGTH\"] = de_para_conj_.geometry.length\n",
            "/usr/local/lib/python3.10/dist-packages/geopandas/geodataframe.py:1538: SettingWithCopyWarning: \n",
            "A value is trying to be set on a copy of a slice from a DataFrame.\n",
            "Try using .loc[row_indexer,col_indexer] = value instead\n",
            "\n",
            "See the caveats in the documentation: https://pandas.pydata.org/pandas-docs/stable/user_guide/indexing.html#returning-a-view-versus-a-copy\n",
            "  super().__setitem__(key, value)\n"
          ]
        }
      ]
    },
    {
      "cell_type": "code",
      "source": [
        "de_para_conj_[\"AREA\"] = de_para_conj_.geometry.area"
      ],
      "metadata": {
        "colab": {
          "base_uri": "https://localhost:8080/"
        },
        "id": "mJ7ZxTLovgw4",
        "outputId": "7caffa93-703d-44e3-a1e5-c9b3f14190e3"
      },
      "execution_count": null,
      "outputs": [
        {
          "output_type": "stream",
          "name": "stderr",
          "text": [
            "<ipython-input-115-67b756ef2642>:1: UserWarning: Geometry is in a geographic CRS. Results from 'area' are likely incorrect. Use 'GeoSeries.to_crs()' to re-project geometries to a projected CRS before this operation.\n",
            "\n",
            "  de_para_conj_[\"AREA\"] = de_para_conj_.geometry.area\n"
          ]
        }
      ]
    },
    {
      "cell_type": "code",
      "source": [
        "de_para_conj_"
      ],
      "metadata": {
        "colab": {
          "base_uri": "https://localhost:8080/",
          "height": 424
        },
        "id": "7UH9kMbatlLe",
        "outputId": "9e50b272-ac5f-4f46-8ac4-3766c312d99c"
      },
      "execution_count": null,
      "outputs": [
        {
          "output_type": "execute_result",
          "data": {
            "text/plain": [
              "       Name  Unnamed: 0  IdeConjUndConsumidoras DscConjUndConsumidoras  \\\n",
              "0     12525      110418                 12525.0                CAMAQUÃ   \n",
              "1     16509      325886                 16509.0                Guaporé   \n",
              "2     15630        5815                 15630.0    DOURADOS DAS NAÇÕES   \n",
              "3     13593      111517                 13593.0                  TIETE   \n",
              "4     15044        4255                 15044.0       TERRA NOVA AEREO   \n",
              "...     ...         ...                     ...                    ...   \n",
              "3120  16198        6992                 16198.0                 MATOES   \n",
              "3121  12907      110762                 12907.0             EMBU GUAÇU   \n",
              "3122  12863      429525                 12863.0                 MIMOSO   \n",
              "3123  13771      327562                 13771.0                RODEIRO   \n",
              "3124  14260      540451                 14260.0      BOM JESUS DA LAPA   \n",
              "\n",
              "      MUN_MINIMUM_BOUND_RADIO MUN_NUMBER_OF_BOUNDARYS      AREA    LENGTH  \\\n",
              "0                    0.561293                     149  0.438325  3.710852   \n",
              "1                    0.320427                     531  0.122356  3.512604   \n",
              "2                    0.194285                     516  0.043815  1.150031   \n",
              "3                    0.161835                     440  0.029765  1.444788   \n",
              "4                    0.022936                     408  0.000660  0.298677   \n",
              "...                       ...                     ...       ...       ...   \n",
              "3120                 0.538188                     539  0.305642  3.259529   \n",
              "3121                 0.126946                      90  0.015497  0.764108   \n",
              "3122                 0.486715                    3552  0.490099  3.317999   \n",
              "3123                 0.126113                      77  0.019781  0.775100   \n",
              "3124                 0.447489                    1233  0.215087  2.657366   \n",
              "\n",
              "                                               geometry  \n",
              "0     POLYGON Z ((-51.50051 -30.96237 0.00000, -51.3...  \n",
              "1     POLYGON Z ((-52.02439 -28.74837 0.00000, -51.9...  \n",
              "2     POLYGON Z ((-54.67014 -22.17814 0.00000, -54.6...  \n",
              "3     POLYGON Z ((-47.80600 -22.88300 0.00000, -47.7...  \n",
              "4     POLYGON Z ((-43.27286 -22.87173 0.00000, -43.2...  \n",
              "...                                                 ...  \n",
              "3120  POLYGON Z ((-43.19809 -5.27831 0.00000, -43.18...  \n",
              "3121  POLYGON Z ((-46.78748 -23.74952 0.00000, -46.7...  \n",
              "3122  POLYGON Z ((-53.62570 -20.45397 0.00000, -53.6...  \n",
              "3123  POLYGON Z ((-42.89234 -21.22334 0.00000, -42.9...  \n",
              "3124  POLYGON Z ((-43.27156 -12.76859 0.00000, -43.2...  \n",
              "\n",
              "[2922 rows x 9 columns]"
            ],
            "text/html": [
              "\n",
              "  <div id=\"df-aa41de03-e6b9-482a-90e3-dcff14c5c7d0\">\n",
              "    <div class=\"colab-df-container\">\n",
              "      <div>\n",
              "<style scoped>\n",
              "    .dataframe tbody tr th:only-of-type {\n",
              "        vertical-align: middle;\n",
              "    }\n",
              "\n",
              "    .dataframe tbody tr th {\n",
              "        vertical-align: top;\n",
              "    }\n",
              "\n",
              "    .dataframe thead th {\n",
              "        text-align: right;\n",
              "    }\n",
              "</style>\n",
              "<table border=\"1\" class=\"dataframe\">\n",
              "  <thead>\n",
              "    <tr style=\"text-align: right;\">\n",
              "      <th></th>\n",
              "      <th>Name</th>\n",
              "      <th>Unnamed: 0</th>\n",
              "      <th>IdeConjUndConsumidoras</th>\n",
              "      <th>DscConjUndConsumidoras</th>\n",
              "      <th>MUN_MINIMUM_BOUND_RADIO</th>\n",
              "      <th>MUN_NUMBER_OF_BOUNDARYS</th>\n",
              "      <th>AREA</th>\n",
              "      <th>LENGTH</th>\n",
              "      <th>geometry</th>\n",
              "    </tr>\n",
              "  </thead>\n",
              "  <tbody>\n",
              "    <tr>\n",
              "      <th>0</th>\n",
              "      <td>12525</td>\n",
              "      <td>110418</td>\n",
              "      <td>12525.0</td>\n",
              "      <td>CAMAQUÃ</td>\n",
              "      <td>0.561293</td>\n",
              "      <td>149</td>\n",
              "      <td>0.438325</td>\n",
              "      <td>3.710852</td>\n",
              "      <td>POLYGON Z ((-51.50051 -30.96237 0.00000, -51.3...</td>\n",
              "    </tr>\n",
              "    <tr>\n",
              "      <th>1</th>\n",
              "      <td>16509</td>\n",
              "      <td>325886</td>\n",
              "      <td>16509.0</td>\n",
              "      <td>Guaporé</td>\n",
              "      <td>0.320427</td>\n",
              "      <td>531</td>\n",
              "      <td>0.122356</td>\n",
              "      <td>3.512604</td>\n",
              "      <td>POLYGON Z ((-52.02439 -28.74837 0.00000, -51.9...</td>\n",
              "    </tr>\n",
              "    <tr>\n",
              "      <th>2</th>\n",
              "      <td>15630</td>\n",
              "      <td>5815</td>\n",
              "      <td>15630.0</td>\n",
              "      <td>DOURADOS DAS NAÇÕES</td>\n",
              "      <td>0.194285</td>\n",
              "      <td>516</td>\n",
              "      <td>0.043815</td>\n",
              "      <td>1.150031</td>\n",
              "      <td>POLYGON Z ((-54.67014 -22.17814 0.00000, -54.6...</td>\n",
              "    </tr>\n",
              "    <tr>\n",
              "      <th>3</th>\n",
              "      <td>13593</td>\n",
              "      <td>111517</td>\n",
              "      <td>13593.0</td>\n",
              "      <td>TIETE</td>\n",
              "      <td>0.161835</td>\n",
              "      <td>440</td>\n",
              "      <td>0.029765</td>\n",
              "      <td>1.444788</td>\n",
              "      <td>POLYGON Z ((-47.80600 -22.88300 0.00000, -47.7...</td>\n",
              "    </tr>\n",
              "    <tr>\n",
              "      <th>4</th>\n",
              "      <td>15044</td>\n",
              "      <td>4255</td>\n",
              "      <td>15044.0</td>\n",
              "      <td>TERRA NOVA AEREO</td>\n",
              "      <td>0.022936</td>\n",
              "      <td>408</td>\n",
              "      <td>0.000660</td>\n",
              "      <td>0.298677</td>\n",
              "      <td>POLYGON Z ((-43.27286 -22.87173 0.00000, -43.2...</td>\n",
              "    </tr>\n",
              "    <tr>\n",
              "      <th>...</th>\n",
              "      <td>...</td>\n",
              "      <td>...</td>\n",
              "      <td>...</td>\n",
              "      <td>...</td>\n",
              "      <td>...</td>\n",
              "      <td>...</td>\n",
              "      <td>...</td>\n",
              "      <td>...</td>\n",
              "      <td>...</td>\n",
              "    </tr>\n",
              "    <tr>\n",
              "      <th>3120</th>\n",
              "      <td>16198</td>\n",
              "      <td>6992</td>\n",
              "      <td>16198.0</td>\n",
              "      <td>MATOES</td>\n",
              "      <td>0.538188</td>\n",
              "      <td>539</td>\n",
              "      <td>0.305642</td>\n",
              "      <td>3.259529</td>\n",
              "      <td>POLYGON Z ((-43.19809 -5.27831 0.00000, -43.18...</td>\n",
              "    </tr>\n",
              "    <tr>\n",
              "      <th>3121</th>\n",
              "      <td>12907</td>\n",
              "      <td>110762</td>\n",
              "      <td>12907.0</td>\n",
              "      <td>EMBU GUAÇU</td>\n",
              "      <td>0.126946</td>\n",
              "      <td>90</td>\n",
              "      <td>0.015497</td>\n",
              "      <td>0.764108</td>\n",
              "      <td>POLYGON Z ((-46.78748 -23.74952 0.00000, -46.7...</td>\n",
              "    </tr>\n",
              "    <tr>\n",
              "      <th>3122</th>\n",
              "      <td>12863</td>\n",
              "      <td>429525</td>\n",
              "      <td>12863.0</td>\n",
              "      <td>MIMOSO</td>\n",
              "      <td>0.486715</td>\n",
              "      <td>3552</td>\n",
              "      <td>0.490099</td>\n",
              "      <td>3.317999</td>\n",
              "      <td>POLYGON Z ((-53.62570 -20.45397 0.00000, -53.6...</td>\n",
              "    </tr>\n",
              "    <tr>\n",
              "      <th>3123</th>\n",
              "      <td>13771</td>\n",
              "      <td>327562</td>\n",
              "      <td>13771.0</td>\n",
              "      <td>RODEIRO</td>\n",
              "      <td>0.126113</td>\n",
              "      <td>77</td>\n",
              "      <td>0.019781</td>\n",
              "      <td>0.775100</td>\n",
              "      <td>POLYGON Z ((-42.89234 -21.22334 0.00000, -42.9...</td>\n",
              "    </tr>\n",
              "    <tr>\n",
              "      <th>3124</th>\n",
              "      <td>14260</td>\n",
              "      <td>540451</td>\n",
              "      <td>14260.0</td>\n",
              "      <td>BOM JESUS DA LAPA</td>\n",
              "      <td>0.447489</td>\n",
              "      <td>1233</td>\n",
              "      <td>0.215087</td>\n",
              "      <td>2.657366</td>\n",
              "      <td>POLYGON Z ((-43.27156 -12.76859 0.00000, -43.2...</td>\n",
              "    </tr>\n",
              "  </tbody>\n",
              "</table>\n",
              "<p>2922 rows × 9 columns</p>\n",
              "</div>\n",
              "      <button class=\"colab-df-convert\" onclick=\"convertToInteractive('df-aa41de03-e6b9-482a-90e3-dcff14c5c7d0')\"\n",
              "              title=\"Convert this dataframe to an interactive table.\"\n",
              "              style=\"display:none;\">\n",
              "        \n",
              "  <svg xmlns=\"http://www.w3.org/2000/svg\" height=\"24px\"viewBox=\"0 0 24 24\"\n",
              "       width=\"24px\">\n",
              "    <path d=\"M0 0h24v24H0V0z\" fill=\"none\"/>\n",
              "    <path d=\"M18.56 5.44l.94 2.06.94-2.06 2.06-.94-2.06-.94-.94-2.06-.94 2.06-2.06.94zm-11 1L8.5 8.5l.94-2.06 2.06-.94-2.06-.94L8.5 2.5l-.94 2.06-2.06.94zm10 10l.94 2.06.94-2.06 2.06-.94-2.06-.94-.94-2.06-.94 2.06-2.06.94z\"/><path d=\"M17.41 7.96l-1.37-1.37c-.4-.4-.92-.59-1.43-.59-.52 0-1.04.2-1.43.59L10.3 9.45l-7.72 7.72c-.78.78-.78 2.05 0 2.83L4 21.41c.39.39.9.59 1.41.59.51 0 1.02-.2 1.41-.59l7.78-7.78 2.81-2.81c.8-.78.8-2.07 0-2.86zM5.41 20L4 18.59l7.72-7.72 1.47 1.35L5.41 20z\"/>\n",
              "  </svg>\n",
              "      </button>\n",
              "      \n",
              "  <style>\n",
              "    .colab-df-container {\n",
              "      display:flex;\n",
              "      flex-wrap:wrap;\n",
              "      gap: 12px;\n",
              "    }\n",
              "\n",
              "    .colab-df-convert {\n",
              "      background-color: #E8F0FE;\n",
              "      border: none;\n",
              "      border-radius: 50%;\n",
              "      cursor: pointer;\n",
              "      display: none;\n",
              "      fill: #1967D2;\n",
              "      height: 32px;\n",
              "      padding: 0 0 0 0;\n",
              "      width: 32px;\n",
              "    }\n",
              "\n",
              "    .colab-df-convert:hover {\n",
              "      background-color: #E2EBFA;\n",
              "      box-shadow: 0px 1px 2px rgba(60, 64, 67, 0.3), 0px 1px 3px 1px rgba(60, 64, 67, 0.15);\n",
              "      fill: #174EA6;\n",
              "    }\n",
              "\n",
              "    [theme=dark] .colab-df-convert {\n",
              "      background-color: #3B4455;\n",
              "      fill: #D2E3FC;\n",
              "    }\n",
              "\n",
              "    [theme=dark] .colab-df-convert:hover {\n",
              "      background-color: #434B5C;\n",
              "      box-shadow: 0px 1px 3px 1px rgba(0, 0, 0, 0.15);\n",
              "      filter: drop-shadow(0px 1px 2px rgba(0, 0, 0, 0.3));\n",
              "      fill: #FFFFFF;\n",
              "    }\n",
              "  </style>\n",
              "\n",
              "      <script>\n",
              "        const buttonEl =\n",
              "          document.querySelector('#df-aa41de03-e6b9-482a-90e3-dcff14c5c7d0 button.colab-df-convert');\n",
              "        buttonEl.style.display =\n",
              "          google.colab.kernel.accessAllowed ? 'block' : 'none';\n",
              "\n",
              "        async function convertToInteractive(key) {\n",
              "          const element = document.querySelector('#df-aa41de03-e6b9-482a-90e3-dcff14c5c7d0');\n",
              "          const dataTable =\n",
              "            await google.colab.kernel.invokeFunction('convertToInteractive',\n",
              "                                                     [key], {});\n",
              "          if (!dataTable) return;\n",
              "\n",
              "          const docLinkHtml = 'Like what you see? Visit the ' +\n",
              "            '<a target=\"_blank\" href=https://colab.research.google.com/notebooks/data_table.ipynb>data table notebook</a>'\n",
              "            + ' to learn more about interactive tables.';\n",
              "          element.innerHTML = '';\n",
              "          dataTable['output_type'] = 'display_data';\n",
              "          await google.colab.output.renderOutput(dataTable, element);\n",
              "          const docLink = document.createElement('div');\n",
              "          docLink.innerHTML = docLinkHtml;\n",
              "          element.appendChild(docLink);\n",
              "        }\n",
              "      </script>\n",
              "    </div>\n",
              "  </div>\n",
              "  "
            ]
          },
          "metadata": {},
          "execution_count": 116
        }
      ]
    },
    {
      "cell_type": "markdown",
      "source": [],
      "metadata": {
        "id": "ASvrRTpUwOIp"
      }
    },
    {
      "cell_type": "code",
      "execution_count": null,
      "metadata": {
        "id": "qDhAuio_XAMY"
      },
      "outputs": [],
      "source": [
        "de_para_conj_.to_file(base_path + \"Ordens_servico/de_para_und_cons_.json\", driver='GeoJSON')"
      ]
    },
    {
      "cell_type": "code",
      "source": [],
      "metadata": {
        "id": "3gZ9IB6s0rwp"
      },
      "execution_count": null,
      "outputs": []
    }
  ],
  "metadata": {
    "colab": {
      "provenance": [],
      "mount_file_id": "1BrwC9CPcfVzMWurS4VhC13ogdTziH2K0",
      "authorship_tag": "ABX9TyPJL+K8nnmHfDQiS9JA58nW",
      "include_colab_link": true
    },
    "kernelspec": {
      "display_name": "Python 3",
      "name": "python3"
    },
    "language_info": {
      "name": "python"
    }
  },
  "nbformat": 4,
  "nbformat_minor": 0
}